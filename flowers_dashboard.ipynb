{
 "cells": [
  {
   "cell_type": "code",
   "execution_count": null,
   "metadata": {},
   "outputs": [],
   "source": [
    "import pandas as pd\n",
    "import plotly.express as px\n",
    "import numpy as np\n",
    "\n",
    "df = pd.read_csv('flower_data.csv')\n",
    "\n",
    "dict = {'name': 'Name',\n",
    "        'height (cm)': 'Höhe',\n",
    "        'longevity (years)': 'Lebenserwartung',\n",
    "        'place of origin': 'Herkunftskontinent',\n",
    "        'color': 'Farbe',\n",
    "        'climate': 'Klima',\n",
    "        'cut flowers': 'Geschnittene Blume',\n",
    "        'perfumes': 'Parfum',\n",
    "        'medicine': 'Medizin',\n",
    "        'average number of petals': 'Durchschnittliche Anzhal Blätter'}\n",
    "\n",
    "df.rename(columns=dict, inplace=True)\n",
    "\n",
    "display(df)"
   ]
  },
  {
   "cell_type": "code",
   "execution_count": null,
   "metadata": {},
   "outputs": [],
   "source": []
  }
 ],
 "metadata": {
  "kernelspec": {
   "display_name": "Testing",
   "language": "python",
   "name": "python3"
  },
  "language_info": {
   "codemirror_mode": {
    "name": "ipython",
    "version": 3
   },
   "file_extension": ".py",
   "mimetype": "text/x-python",
   "name": "python",
   "nbconvert_exporter": "python",
   "pygments_lexer": "ipython3",
   "version": "3.10.11"
  },
  "orig_nbformat": 4
 },
 "nbformat": 4,
 "nbformat_minor": 2
}
